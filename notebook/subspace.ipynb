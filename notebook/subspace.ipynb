{
  "cells": [
    {
      "cell_type": "markdown",
      "metadata": {
        "id": "view-in-github",
        "colab_type": "text"
      },
      "source": [
        "<a href=\"https://colab.research.google.com/github/yoichi1484/subspace/blob/main/notebook/subspace.ipynb\" target=\"_parent\"><img src=\"https://colab.research.google.com/assets/colab-badge.svg\" alt=\"Open In Colab\"/></a>"
      ]
    },
    {
      "cell_type": "markdown",
      "source": [
        "# Subspace Representations for Soft Set Operations and Sentence Similarities\n",
        "Yoichi Ishibashi, Sho Yokoi, Katsuhito Sudoh, Satoshi Nakamura: [Subspace Representations for Soft Set Operations and Sentence Similarities](https://arxiv.org/abs/2210.13034) (NAACL, 2024)\n",
        "\n",
        "\n",
        "## Setup"
      ],
      "metadata": {
        "id": "rORGAkAFs7Jo"
      }
    },
    {
      "cell_type": "code",
      "execution_count": null,
      "metadata": {
        "colab": {
          "base_uri": "https://localhost:8080/"
        },
        "id": "maRZDylkThc6",
        "outputId": "0eedecf5-1aed-4c65-8511-59dda6c913a1"
      },
      "outputs": [
        {
          "output_type": "stream",
          "name": "stdout",
          "text": [
            "fatal: destination path 'subspace' already exists and is not an empty directory.\n"
          ]
        }
      ],
      "source": [
        "!git clone https://github.com/yoichi1484/subspace.git"
      ]
    },
    {
      "cell_type": "code",
      "execution_count": null,
      "metadata": {
        "colab": {
          "base_uri": "https://localhost:8080/"
        },
        "id": "mYNhF-kkTp4w",
        "outputId": "8af51f32-88d6-47e6-cbca-887205b72c0c"
      },
      "outputs": [
        {
          "output_type": "stream",
          "name": "stdout",
          "text": [
            "/content/subspace\n"
          ]
        }
      ],
      "source": [
        "cd subspace"
      ]
    },
    {
      "cell_type": "code",
      "execution_count": null,
      "metadata": {
        "id": "eQ1N7jdYT1PT",
        "colab": {
          "base_uri": "https://localhost:8080/"
        },
        "outputId": "6b7180c7-0c98-4ae8-fc0a-412be7c6fdcd"
      },
      "outputs": [
        {
          "output_type": "stream",
          "name": "stdout",
          "text": [
            "Requirement already satisfied: numpy>=1.21.6 in /usr/local/lib/python3.10/dist-packages (from -r requirements.txt (line 3)) (1.25.2)\n",
            "Requirement already satisfied: prettytable==3.4.1 in /usr/local/lib/python3.10/dist-packages (from -r requirements.txt (line 5)) (3.4.1)\n",
            "Requirement already satisfied: scipy>=1.7.3 in /usr/local/lib/python3.10/dist-packages (from -r requirements.txt (line 7)) (1.11.4)\n",
            "Requirement already satisfied: torch in /usr/local/lib/python3.10/dist-packages (from -r requirements.txt (line 12)) (2.3.0+cu121)\n",
            "Requirement already satisfied: transformers==4.21.3 in /usr/local/lib/python3.10/dist-packages (from -r requirements.txt (line 13)) (4.21.3)\n",
            "Requirement already satisfied: wcwidth in /usr/local/lib/python3.10/dist-packages (from prettytable==3.4.1->-r requirements.txt (line 5)) (0.2.13)\n",
            "Requirement already satisfied: filelock in /usr/local/lib/python3.10/dist-packages (from transformers==4.21.3->-r requirements.txt (line 13)) (3.14.0)\n",
            "Requirement already satisfied: huggingface-hub<1.0,>=0.1.0 in /usr/local/lib/python3.10/dist-packages (from transformers==4.21.3->-r requirements.txt (line 13)) (0.23.1)\n",
            "Requirement already satisfied: packaging>=20.0 in /usr/local/lib/python3.10/dist-packages (from transformers==4.21.3->-r requirements.txt (line 13)) (24.0)\n",
            "Requirement already satisfied: pyyaml>=5.1 in /usr/local/lib/python3.10/dist-packages (from transformers==4.21.3->-r requirements.txt (line 13)) (6.0.1)\n",
            "Requirement already satisfied: regex!=2019.12.17 in /usr/local/lib/python3.10/dist-packages (from transformers==4.21.3->-r requirements.txt (line 13)) (2024.5.15)\n",
            "Requirement already satisfied: requests in /usr/local/lib/python3.10/dist-packages (from transformers==4.21.3->-r requirements.txt (line 13)) (2.31.0)\n",
            "Requirement already satisfied: tokenizers!=0.11.3,<0.13,>=0.11.1 in /usr/local/lib/python3.10/dist-packages (from transformers==4.21.3->-r requirements.txt (line 13)) (0.12.1)\n",
            "Requirement already satisfied: tqdm>=4.27 in /usr/local/lib/python3.10/dist-packages (from transformers==4.21.3->-r requirements.txt (line 13)) (4.66.4)\n",
            "Requirement already satisfied: typing-extensions>=4.8.0 in /usr/local/lib/python3.10/dist-packages (from torch->-r requirements.txt (line 12)) (4.11.0)\n",
            "Requirement already satisfied: sympy in /usr/local/lib/python3.10/dist-packages (from torch->-r requirements.txt (line 12)) (1.12)\n",
            "Requirement already satisfied: networkx in /usr/local/lib/python3.10/dist-packages (from torch->-r requirements.txt (line 12)) (3.3)\n",
            "Requirement already satisfied: jinja2 in /usr/local/lib/python3.10/dist-packages (from torch->-r requirements.txt (line 12)) (3.1.4)\n",
            "Requirement already satisfied: fsspec in /usr/local/lib/python3.10/dist-packages (from torch->-r requirements.txt (line 12)) (2023.6.0)\n",
            "Requirement already satisfied: nvidia-cuda-nvrtc-cu12==12.1.105 in /usr/local/lib/python3.10/dist-packages (from torch->-r requirements.txt (line 12)) (12.1.105)\n",
            "Requirement already satisfied: nvidia-cuda-runtime-cu12==12.1.105 in /usr/local/lib/python3.10/dist-packages (from torch->-r requirements.txt (line 12)) (12.1.105)\n",
            "Requirement already satisfied: nvidia-cuda-cupti-cu12==12.1.105 in /usr/local/lib/python3.10/dist-packages (from torch->-r requirements.txt (line 12)) (12.1.105)\n",
            "Requirement already satisfied: nvidia-cudnn-cu12==8.9.2.26 in /usr/local/lib/python3.10/dist-packages (from torch->-r requirements.txt (line 12)) (8.9.2.26)\n",
            "Requirement already satisfied: nvidia-cublas-cu12==12.1.3.1 in /usr/local/lib/python3.10/dist-packages (from torch->-r requirements.txt (line 12)) (12.1.3.1)\n",
            "Requirement already satisfied: nvidia-cufft-cu12==11.0.2.54 in /usr/local/lib/python3.10/dist-packages (from torch->-r requirements.txt (line 12)) (11.0.2.54)\n",
            "Requirement already satisfied: nvidia-curand-cu12==10.3.2.106 in /usr/local/lib/python3.10/dist-packages (from torch->-r requirements.txt (line 12)) (10.3.2.106)\n",
            "Requirement already satisfied: nvidia-cusolver-cu12==11.4.5.107 in /usr/local/lib/python3.10/dist-packages (from torch->-r requirements.txt (line 12)) (11.4.5.107)\n",
            "Requirement already satisfied: nvidia-cusparse-cu12==12.1.0.106 in /usr/local/lib/python3.10/dist-packages (from torch->-r requirements.txt (line 12)) (12.1.0.106)\n",
            "Requirement already satisfied: nvidia-nccl-cu12==2.20.5 in /usr/local/lib/python3.10/dist-packages (from torch->-r requirements.txt (line 12)) (2.20.5)\n",
            "Requirement already satisfied: nvidia-nvtx-cu12==12.1.105 in /usr/local/lib/python3.10/dist-packages (from torch->-r requirements.txt (line 12)) (12.1.105)\n",
            "Requirement already satisfied: triton==2.3.0 in /usr/local/lib/python3.10/dist-packages (from torch->-r requirements.txt (line 12)) (2.3.0)\n",
            "Requirement already satisfied: nvidia-nvjitlink-cu12 in /usr/local/lib/python3.10/dist-packages (from nvidia-cusolver-cu12==11.4.5.107->torch->-r requirements.txt (line 12)) (12.5.40)\n",
            "Requirement already satisfied: MarkupSafe>=2.0 in /usr/local/lib/python3.10/dist-packages (from jinja2->torch->-r requirements.txt (line 12)) (2.1.5)\n",
            "Requirement already satisfied: charset-normalizer<4,>=2 in /usr/local/lib/python3.10/dist-packages (from requests->transformers==4.21.3->-r requirements.txt (line 13)) (3.3.2)\n",
            "Requirement already satisfied: idna<4,>=2.5 in /usr/local/lib/python3.10/dist-packages (from requests->transformers==4.21.3->-r requirements.txt (line 13)) (3.7)\n",
            "Requirement already satisfied: urllib3<3,>=1.21.1 in /usr/local/lib/python3.10/dist-packages (from requests->transformers==4.21.3->-r requirements.txt (line 13)) (2.0.7)\n",
            "Requirement already satisfied: certifi>=2017.4.17 in /usr/local/lib/python3.10/dist-packages (from requests->transformers==4.21.3->-r requirements.txt (line 13)) (2024.2.2)\n",
            "Requirement already satisfied: mpmath>=0.19 in /usr/local/lib/python3.10/dist-packages (from sympy->torch->-r requirements.txt (line 12)) (1.3.0)\n"
          ]
        }
      ],
      "source": [
        "!pip install -r requirements.txt"
      ]
    },
    {
      "cell_type": "markdown",
      "source": [
        "## Set similarity\n",
        "Our subspace-based sentence (set of words) similarity can be easily computed as follows."
      ],
      "metadata": {
        "id": "lRSgjBRhtM80"
      }
    },
    {
      "cell_type": "code",
      "source": [
        "from subspace.tool import SubspaceBERTScore\n",
        "\n",
        "scorer = SubspaceBERTScore(device='cpu', model_name_or_path='bert-base-uncased')\n",
        "\n",
        "sentences_a = [\"A man with a hard hat is dancing.\", \"A young child is riding a horse.\"]\n",
        "sentences_b = [\"A man wearing a hard hat is dancing.\", \"A child is riding a horse.\"]\n",
        "\n",
        "scorer(sentences_a, sentences_b)"
      ],
      "metadata": {
        "id": "QWL7g1q1VL-2",
        "colab": {
          "base_uri": "https://localhost:8080/"
        },
        "outputId": "a4eaebf7-31a9-4c1d-f487-1c9369e9b935"
      },
      "execution_count": null,
      "outputs": [
        {
          "output_type": "stream",
          "name": "stderr",
          "text": [
            "Some weights of the model checkpoint at bert-base-uncased were not used when initializing BertModel: ['cls.predictions.decoder.weight', 'cls.predictions.transform.dense.weight', 'cls.predictions.bias', 'cls.predictions.transform.dense.bias', 'cls.seq_relationship.weight', 'cls.seq_relationship.bias', 'cls.predictions.transform.LayerNorm.weight', 'cls.predictions.transform.LayerNorm.bias']\n",
            "- This IS expected if you are initializing BertModel from the checkpoint of a model trained on another task or with another architecture (e.g. initializing a BertForSequenceClassification model from a BertForPreTraining model).\n",
            "- This IS NOT expected if you are initializing BertModel from the checkpoint of a model that you expect to be exactly identical (initializing a BertForSequenceClassification model from a BertForSequenceClassification model).\n"
          ]
        },
        {
          "output_type": "execute_result",
          "data": {
            "text/plain": [
              "(tensor([0.9848, 0.9338]), tensor([0.9838, 0.9249]), tensor([0.9843, 0.9293]))"
            ]
          },
          "metadata": {},
          "execution_count": 4
        }
      ]
    },
    {
      "cell_type": "markdown",
      "source": [
        "### STS task\n",
        "Evaluation experiments on the STS task can be conducted with ```SentEval```.\n",
        "The first step is to download the evaluation data."
      ],
      "metadata": {
        "id": "wHNIxyXwtPb7"
      }
    },
    {
      "cell_type": "code",
      "source": [
        "cd ./SentEval/data/downstream/"
      ],
      "metadata": {
        "colab": {
          "base_uri": "https://localhost:8080/"
        },
        "id": "A1ESU6cQZqUl",
        "outputId": "bbd00efe-807e-486d-bdd4-a4bcd22cc2c9"
      },
      "execution_count": null,
      "outputs": [
        {
          "output_type": "stream",
          "name": "stdout",
          "text": [
            "/content/subspace/SentEval/data/downstream\n"
          ]
        }
      ]
    },
    {
      "cell_type": "code",
      "source": [
        "!bash download_dataset.sh"
      ],
      "metadata": {
        "colab": {
          "base_uri": "https://localhost:8080/"
        },
        "id": "iT_WPgiOoEwx",
        "outputId": "a017f134-a039-4294-e551-2c6dd79663b1"
      },
      "execution_count": null,
      "outputs": [
        {
          "output_type": "stream",
          "name": "stdout",
          "text": [
            "--2024-05-31 09:23:41--  https://huggingface.co/datasets/princeton-nlp/datasets-for-simcse/resolve/main/senteval.tar\n",
            "Resolving huggingface.co (huggingface.co)... 13.33.30.49, 13.33.30.76, 13.33.30.23, ...\n",
            "Connecting to huggingface.co (huggingface.co)|13.33.30.49|:443... connected.\n",
            "HTTP request sent, awaiting response... 302 Found\n",
            "Location: https://cdn-lfs.huggingface.co/datasets/princeton-nlp/datasets-for-simcse/bc43c148f7be97471c78fc4255399d3158cb99dfe8f2221999c918338b138c38?response-content-disposition=attachment%3B+filename*%3DUTF-8%27%27senteval.tar%3B+filename%3D%22senteval.tar%22%3B&response-content-type=application%2Fx-tar&Expires=1717406622&Policy=eyJTdGF0ZW1lbnQiOlt7IkNvbmRpdGlvbiI6eyJEYXRlTGVzc1RoYW4iOnsiQVdTOkVwb2NoVGltZSI6MTcxNzQwNjYyMn19LCJSZXNvdXJjZSI6Imh0dHBzOi8vY2RuLWxmcy5odWdnaW5nZmFjZS5jby9kYXRhc2V0cy9wcmluY2V0b24tbmxwL2RhdGFzZXRzLWZvci1zaW1jc2UvYmM0M2MxNDhmN2JlOTc0NzFjNzhmYzQyNTUzOTlkMzE1OGNiOTlkZmU4ZjIyMjE5OTljOTE4MzM4YjEzOGMzOD9yZXNwb25zZS1jb250ZW50LWRpc3Bvc2l0aW9uPSomcmVzcG9uc2UtY29udGVudC10eXBlPSoifV19&Signature=Yg%7E6Y-xLf5BdQGxbKhd0sbl6dnryAk1mJOzKJT4oW36TK0CZcvoFgQtoNKUjR6NTnB08DtzQnjNytOzVnlQtHQEEx4QhjIB9%7EDd4Jpb5R8G2yV3mOrE6z4iZR%7EWo0kksRnzpWaKfvuVtTGjUvZSYDFqorqU33-o9qSFEXBi6d0Tnxqj4hPo71gor7L4VKy3PPI9pkTZdsvfTIpDtcIwj3v0VHJETifivJmO6ZOtNiwvhTKZrh9kOXOh4ILotcA7u%7EfmvSk7VZ-vsA5yfMa94SBdcpqDAbCuBNjnBpRG6prnFkWPDIkPT2RSNpjjqIMS6Pu2SQRE7nwOd%7ETaSboX4sg__&Key-Pair-Id=KVTP0A1DKRTAX [following]\n",
            "--2024-05-31 09:23:42--  https://cdn-lfs.huggingface.co/datasets/princeton-nlp/datasets-for-simcse/bc43c148f7be97471c78fc4255399d3158cb99dfe8f2221999c918338b138c38?response-content-disposition=attachment%3B+filename*%3DUTF-8%27%27senteval.tar%3B+filename%3D%22senteval.tar%22%3B&response-content-type=application%2Fx-tar&Expires=1717406622&Policy=eyJTdGF0ZW1lbnQiOlt7IkNvbmRpdGlvbiI6eyJEYXRlTGVzc1RoYW4iOnsiQVdTOkVwb2NoVGltZSI6MTcxNzQwNjYyMn19LCJSZXNvdXJjZSI6Imh0dHBzOi8vY2RuLWxmcy5odWdnaW5nZmFjZS5jby9kYXRhc2V0cy9wcmluY2V0b24tbmxwL2RhdGFzZXRzLWZvci1zaW1jc2UvYmM0M2MxNDhmN2JlOTc0NzFjNzhmYzQyNTUzOTlkMzE1OGNiOTlkZmU4ZjIyMjE5OTljOTE4MzM4YjEzOGMzOD9yZXNwb25zZS1jb250ZW50LWRpc3Bvc2l0aW9uPSomcmVzcG9uc2UtY29udGVudC10eXBlPSoifV19&Signature=Yg%7E6Y-xLf5BdQGxbKhd0sbl6dnryAk1mJOzKJT4oW36TK0CZcvoFgQtoNKUjR6NTnB08DtzQnjNytOzVnlQtHQEEx4QhjIB9%7EDd4Jpb5R8G2yV3mOrE6z4iZR%7EWo0kksRnzpWaKfvuVtTGjUvZSYDFqorqU33-o9qSFEXBi6d0Tnxqj4hPo71gor7L4VKy3PPI9pkTZdsvfTIpDtcIwj3v0VHJETifivJmO6ZOtNiwvhTKZrh9kOXOh4ILotcA7u%7EfmvSk7VZ-vsA5yfMa94SBdcpqDAbCuBNjnBpRG6prnFkWPDIkPT2RSNpjjqIMS6Pu2SQRE7nwOd%7ETaSboX4sg__&Key-Pair-Id=KVTP0A1DKRTAX\n",
            "Resolving cdn-lfs.huggingface.co (cdn-lfs.huggingface.co)... 108.156.133.109, 108.156.133.103, 108.156.133.68, ...\n",
            "Connecting to cdn-lfs.huggingface.co (cdn-lfs.huggingface.co)|108.156.133.109|:443... connected.\n",
            "HTTP request sent, awaiting response... 200 OK\n",
            "Length: 89825280 (86M) [application/x-tar]\n",
            "Saving to: ‘senteval.tar.1’\n",
            "\n",
            "senteval.tar.1      100%[===================>]  85.66M  16.6MB/s    in 6.8s    \n",
            "\n",
            "2024-05-31 09:23:50 (12.6 MB/s) - ‘senteval.tar.1’ saved [89825280/89825280]\n",
            "\n",
            "CR/\n",
            "CR/custrev.neg\n",
            "CR/custrev.pos\n",
            "MPQA/\n",
            "MPQA/mpqa.neg\n",
            "MPQA/mpqa.pos\n",
            "MR/\n",
            "MR/rt-polarity.neg\n",
            "MR/rt-polarity.pos\n",
            "MRPC/\n",
            "MRPC/msr_paraphrase_train.txt\n",
            "MRPC/msr_paraphrase_test.txt\n",
            "SICK/\n",
            "SICK/SICK_trial.txt\n",
            "SICK/SICK_train.txt\n",
            "SICK/SICK_test_annotated.txt\n",
            "SNLI/\n",
            "SNLI/s2.test\n",
            "SNLI/s1.train\n",
            "SNLI/s2.train\n",
            "SNLI/labels.dev\n",
            "SNLI/s1.test\n",
            "SNLI/labels.test\n",
            "SNLI/s2.dev\n",
            "SNLI/s1.dev\n",
            "SNLI/labels.train\n",
            "SST/\n",
            "SST/fine/\n",
            "SST/fine/sentiment-test\n",
            "SST/fine/sentiment-train\n",
            "SST/fine/sentiment-dev\n",
            "SST/binary/\n",
            "SST/binary/sentiment-test\n",
            "SST/binary/sentiment-train\n",
            "SST/binary/sentiment-dev\n",
            "STS/\n",
            "STS/STS12-en-test/\n",
            "STS/STS12-en-test/STS.gs.surprise.OnWN.txt\n",
            "STS/STS12-en-test/STS.input.surprise.OnWN.txt\n",
            "STS/STS12-en-test/STS.input.MSRpar.txt\n",
            "STS/STS12-en-test/STS.gs.ALL.txt\n",
            "STS/STS12-en-test/00-readme.txt\n",
            "STS/STS12-en-test/STS.gs.MSRvid.txt\n",
            "STS/STS12-en-test/STS.input.MSRvid.txt\n",
            "STS/STS12-en-test/STS.gs.MSRpar.txt\n",
            "STS/STS12-en-test/STS.input.surprise.SMTnews.txt\n",
            "STS/STS12-en-test/STS.gs.SMTeuroparl.txt\n",
            "STS/STS12-en-test/STS.gs.surprise.SMTnews.txt\n",
            "STS/STS12-en-test/STS.input.SMTeuroparl.txt\n",
            "STS/STS14-en-test/\n",
            "STS/STS14-en-test/STS.input.headlines.txt\n",
            "STS/STS14-en-test/STS.gs.OnWN.txt\n",
            "STS/STS14-en-test/STS.gs.images.txt\n",
            "STS/STS14-en-test/STS.gs.deft-news.txt\n",
            "STS/STS14-en-test/STS.gs.tweet-news.txt\n",
            "STS/STS14-en-test/sts2012-train.tgz\n",
            "STS/STS14-en-test/sts2013-test.tgz\n",
            "STS/STS14-en-test/00-readme.txt\n",
            "STS/STS14-en-test/STS.input.OnWN.txt\n",
            "STS/STS14-en-test/STS.input.deft-news.txt\n",
            "STS/STS14-en-test/sts2012-test.tgz\n",
            "STS/STS14-en-test/STS.input.deft-forum.txt\n",
            "STS/STS14-en-test/STS.output.headlines.txt\n",
            "STS/STS14-en-test/correlation-noconfidence.pl\n",
            "STS/STS14-en-test/STS.gs.headlines.txt\n",
            "STS/STS14-en-test/STS.gs.deft-forum.txt\n",
            "STS/STS14-en-test/STS.input.tweet-news.txt\n",
            "STS/STS14-en-test/STS.input.images.txt\n",
            "STS/STS15-en-test/\n",
            "STS/STS15-en-test/STS.input.headlines.txt\n",
            "STS/STS15-en-test/STS.gs.images.txt\n",
            "STS/STS15-en-test/STS.gs.answers-students.txt\n",
            "STS/STS15-en-test/00-readme.txt\n",
            "STS/STS15-en-test/STS.input.answers-students.txt\n",
            "STS/STS15-en-test/STS.input.answers-forums.LICENSE\n",
            "STS/STS15-en-test/STS.gs.answers-forums.txt\n",
            "STS/STS15-en-test/STS.input.answers-forums.txt\n",
            "STS/STS15-en-test/STS.gs.belief.txt\n",
            "STS/STS15-en-test/correlation-noconfidence.pl\n",
            "STS/STS15-en-test/STS.input.belief.txt\n",
            "STS/STS15-en-test/STS.gs.headlines.txt\n",
            "STS/STS15-en-test/STS.answers-forums.zip\n",
            "STS/STS15-en-test/corebaseline-tokencos.tar.gz\n",
            "STS/STS15-en-test/STS.input.images.txt\n",
            "STS/STS13-en-test/\n",
            "STS/STS13-en-test/STS.input.headlines.txt\n",
            "STS/STS13-en-test/STS.gs.OnWN.txt\n",
            "STS/STS13-en-test/correlation.pl\n",
            "STS/STS13-en-test/STS.input.FNWN.txt\n",
            "STS/STS13-en-test/STS.gs.FNWN.txt\n",
            "STS/STS13-en-test/STS.output.FNWN.txt\n",
            "STS/STS13-en-test/00-readme.txt\n",
            "STS/STS13-en-test/correlation-all.pl\n",
            "STS/STS13-en-test/STS.input.OnWN.txt\n",
            "STS/STS13-en-test/STS.output.headlines.txt\n",
            "STS/STS13-en-test/correct-output.pl\n",
            "STS/STS13-en-test/STS.gs.headlines.txt\n",
            "STS/STS13-en-test/STS.output.SMT.txt\n",
            "STS/STS13-en-test/STS.gs.SMT.txt\n",
            "STS/STS13-en-test/STS.output.OnWN.txt\n",
            "STS/STSBenchmark/\n",
            "STS/STSBenchmark/correlation.pl\n",
            "STS/STSBenchmark/sts-test.csv\n",
            "STS/STSBenchmark/readme.txt\n",
            "STS/STSBenchmark/LICENSE.txt\n",
            "STS/STSBenchmark/sts-train.csv\n",
            "STS/STSBenchmark/sts-dev.csv\n",
            "STS/STS16-en-test/\n",
            "STS/STS16-en-test/STS.input.headlines.txt\n",
            "STS/STS16-en-test/STS.gs.plagiarism.txt\n",
            "STS/STS16-en-test/STS.gs.question-question.txt\n",
            "STS/STS16-en-test/STS.input.question-question.txt\n",
            "STS/STS16-en-test/STS2016.input.headlines.ascii\n",
            "STS/STS16-en-test/README.txt\n",
            "STS/STS16-en-test/STS.gs.answer-answer.txt\n",
            "STS/STS16-en-test/STS2016.input.question-question.ascii\n",
            "STS/STS16-en-test/STS.input.postediting.txt\n",
            "STS/STS16-en-test/STS.input.plagiarism.txt\n",
            "STS/STS16-en-test/STS.gs.postediting.txt\n",
            "STS/STS16-en-test/LICENSE.txt\n",
            "STS/STS16-en-test/STS.input.answer-answer.txt\n",
            "STS/STS16-en-test/correlation-noconfidence.pl\n",
            "STS/STS16-en-test/STS.gs.headlines.txt\n",
            "STS/STS16-en-test/STS2016.input.answer-answer.ascii\n",
            "STS/STS16-en-test/STS2016.input.postediting.ascii\n",
            "STS/STS16-en-test/STS2016.input.plagiarism.ascii\n",
            "SUBJ/\n",
            "SUBJ/subj.subjective\n",
            "SUBJ/subj.objective\n",
            "TREC/\n",
            "TREC/train_5500.label\n",
            "TREC/TREC_10.label\n"
          ]
        }
      ]
    },
    {
      "cell_type": "markdown",
      "source": [
        "The evaluation scripts and the calculation of correlation coefficients are based on the code of [Gao & Yao](https://github.com/princeton-nlp/SimCSE).\n",
        "Here is how to run the script:"
      ],
      "metadata": {
        "id": "oULR2LCGtbdr"
      }
    },
    {
      "cell_type": "code",
      "source": [
        "cd ../../../"
      ],
      "metadata": {
        "colab": {
          "base_uri": "https://localhost:8080/"
        },
        "id": "XnTik_RtaQBY",
        "outputId": "21b67d0d-8707-4b6e-a545-1ec3865cb7e7"
      },
      "execution_count": null,
      "outputs": [
        {
          "output_type": "stream",
          "name": "stdout",
          "text": [
            "/content/subspace\n"
          ]
        }
      ]
    },
    {
      "cell_type": "code",
      "source": [
        "!bash run_sts.sh"
      ],
      "metadata": {
        "colab": {
          "base_uri": "https://localhost:8080/"
        },
        "id": "VOxUE6QWZ8hH",
        "outputId": "da423081-9da8-452e-b053-b3a4cdadb3ab"
      },
      "execution_count": null,
      "outputs": [
        {
          "output_type": "stream",
          "name": "stdout",
          "text": [
            "2024-05-31 09:23:53,986 : NumExpr defaulting to 2 threads.\n",
            "Pooler and similarity:  hidden_states_subspace_bert_score_F\n",
            "2024-05-31 09:23:54,287 : Starting new HTTPS connection (1): huggingface.co:443\n",
            "2024-05-31 09:23:54,599 : https://huggingface.co:443 \"HEAD /bert-base-uncased/resolve/main/config.json HTTP/1.1\" 200 0\n",
            "2024-05-31 09:23:55,078 : Starting new HTTPS connection (1): huggingface.co:443\n",
            "2024-05-31 09:23:55,390 : https://huggingface.co:443 \"HEAD /bert-base-uncased/resolve/main/pytorch_model.bin HTTP/1.1\" 302 0\n",
            "Some weights of the model checkpoint at bert-base-uncased were not used when initializing BertModel: ['cls.predictions.bias', 'cls.predictions.transform.LayerNorm.bias', 'cls.seq_relationship.weight', 'cls.predictions.transform.dense.bias', 'cls.predictions.decoder.weight', 'cls.predictions.transform.LayerNorm.weight', 'cls.seq_relationship.bias', 'cls.predictions.transform.dense.weight']\n",
            "- This IS expected if you are initializing BertModel from the checkpoint of a model trained on another task or with another architecture (e.g. initializing a BertForSequenceClassification model from a BertForPreTraining model).\n",
            "- This IS NOT expected if you are initializing BertModel from the checkpoint of a model that you expect to be exactly identical (initializing a BertForSequenceClassification model from a BertForSequenceClassification model).\n",
            "2024-05-31 09:23:59,105 : Starting new HTTPS connection (1): huggingface.co:443\n",
            "2024-05-31 09:23:59,562 : https://huggingface.co:443 \"HEAD /bert-base-uncased/resolve/main/tokenizer_config.json HTTP/1.1\" 200 0\n",
            "2024-05-31 09:23:59,571 : Starting new HTTPS connection (1): huggingface.co:443\n",
            "2024-05-31 09:23:59,986 : https://huggingface.co:443 \"HEAD /bert-base-uncased/resolve/main/config.json HTTP/1.1\" 200 0\n",
            "2024-05-31 09:24:00,004 : Starting new HTTPS connection (1): huggingface.co:443\n",
            "2024-05-31 09:24:00,511 : https://huggingface.co:443 \"HEAD /bert-base-uncased/resolve/main/tokenizer_config.json HTTP/1.1\" 200 0\n",
            "2024-05-31 09:24:00,524 : Starting new HTTPS connection (1): huggingface.co:443\n",
            "2024-05-31 09:24:00,958 : https://huggingface.co:443 \"HEAD /bert-base-uncased/resolve/main/vocab.txt HTTP/1.1\" 200 0\n",
            "2024-05-31 09:24:00,963 : Starting new HTTPS connection (1): huggingface.co:443\n",
            "2024-05-31 09:24:01,401 : https://huggingface.co:443 \"HEAD /bert-base-uncased/resolve/main/tokenizer.json HTTP/1.1\" 200 0\n",
            "2024-05-31 09:24:01,406 : Starting new HTTPS connection (1): huggingface.co:443\n",
            "2024-05-31 09:24:01,779 : https://huggingface.co:443 \"HEAD /bert-base-uncased/resolve/main/added_tokens.json HTTP/1.1\" 404 0\n",
            "2024-05-31 09:24:01,782 : Starting new HTTPS connection (1): huggingface.co:443\n",
            "2024-05-31 09:24:02,104 : https://huggingface.co:443 \"HEAD /bert-base-uncased/resolve/main/special_tokens_map.json HTTP/1.1\" 404 0\n",
            "2024-05-31 09:24:02,107 : Starting new HTTPS connection (1): huggingface.co:443\n",
            "2024-05-31 09:24:02,460 : https://huggingface.co:443 \"HEAD /bert-base-uncased/resolve/main/tokenizer_config.json HTTP/1.1\" 200 0\n",
            "2024-05-31 09:24:02,464 : Starting new HTTPS connection (1): huggingface.co:443\n",
            "2024-05-31 09:24:02,772 : https://huggingface.co:443 \"HEAD /bert-base-uncased/resolve/main/config.json HTTP/1.1\" 200 0\n",
            "cuda\n",
            "2024-05-31 09:24:03,184 : ***** Transfer task : STS12 *****\n",
            "\n",
            "\n",
            "2024-05-31 09:24:14,116 : MSRpar : pearson = 0.4556, spearman = 0.4694\n",
            "2024-05-31 09:24:17,741 : MSRvid : pearson = 0.3891, spearman = 0.4050\n",
            "2024-05-31 09:24:21,107 : SMTeuroparl : pearson = 0.4731, spearman = 0.5478\n",
            "2024-05-31 09:24:28,529 : surprise.OnWN : pearson = 0.6274, spearman = 0.6192\n",
            "2024-05-31 09:24:32,218 : surprise.SMTnews : pearson = 0.4891, spearman = 0.4791\n",
            "2024-05-31 09:24:32,221 : ALL : Pearson = 0.3368,             Spearman = 0.3571\n",
            "2024-05-31 09:24:32,221 : ALL (weighted average) : Pearson = 0.4879,             Spearman = 0.5028\n",
            "2024-05-31 09:24:32,221 : ALL (average) : Pearson = 0.4869,             Spearman = 0.5041\n",
            "\n",
            "2024-05-31 09:24:32,222 : ***** Transfer task : STS13 (-SMT) *****\n",
            "\n",
            "\n",
            "2024-05-31 09:24:35,719 : FNWN : pearson = 0.2948, spearman = 0.3070\n",
            "2024-05-31 09:24:40,923 : headlines : pearson = 0.5731, spearman = 0.5591\n",
            "2024-05-31 09:24:44,277 : OnWN : pearson = 0.5377, spearman = 0.5470\n",
            "2024-05-31 09:24:44,280 : ALL : Pearson = 0.5667,             Spearman = 0.5728\n",
            "2024-05-31 09:24:44,280 : ALL (weighted average) : Pearson = 0.5248,             Spearman = 0.5228\n",
            "2024-05-31 09:24:44,280 : ALL (average) : Pearson = 0.4685,             Spearman = 0.4710\n",
            "\n",
            "2024-05-31 09:24:44,281 : ***** Transfer task : STS14 *****\n",
            "\n",
            "\n",
            "2024-05-31 09:24:47,395 : deft-forum : pearson = 0.3161, spearman = 0.3112\n",
            "2024-05-31 09:24:53,188 : deft-news : pearson = 0.7204, spearman = 0.6762\n",
            "2024-05-31 09:24:58,706 : headlines : pearson = 0.6241, spearman = 0.5631\n",
            "2024-05-31 09:25:03,711 : images : pearson = 0.5346, spearman = 0.5033\n",
            "2024-05-31 09:25:09,443 : OnWN : pearson = 0.6758, spearman = 0.7034\n",
            "2024-05-31 09:25:15,934 : tweet-news : pearson = 0.6963, spearman = 0.6558\n",
            "2024-05-31 09:25:15,937 : ALL : Pearson = 0.5177,             Spearman = 0.4873\n",
            "2024-05-31 09:25:15,937 : ALL (weighted average) : Pearson = 0.6017,             Spearman = 0.5766\n",
            "2024-05-31 09:25:15,938 : ALL (average) : Pearson = 0.5945,             Spearman = 0.5688\n",
            "\n",
            "2024-05-31 09:25:15,939 : ***** Transfer task : STS15 *****\n",
            "\n",
            "\n",
            "2024-05-31 09:25:21,611 : answers-forums : pearson = 0.5417, spearman = 0.5271\n",
            "2024-05-31 09:25:26,248 : answers-students : pearson = 0.6458, spearman = 0.6440\n",
            "2024-05-31 09:25:32,142 : belief : pearson = 0.7411, spearman = 0.7684\n",
            "2024-05-31 09:25:37,949 : headlines : pearson = 0.7019, spearman = 0.6944\n",
            "2024-05-31 09:25:43,020 : images : pearson = 0.6324, spearman = 0.6272\n",
            "2024-05-31 09:25:43,024 : ALL : Pearson = 0.6254,             Spearman = 0.6311\n",
            "2024-05-31 09:25:43,024 : ALL (weighted average) : Pearson = 0.6554,             Spearman = 0.6534\n",
            "2024-05-31 09:25:43,024 : ALL (average) : Pearson = 0.6526,             Spearman = 0.6522\n",
            "\n",
            "2024-05-31 09:25:43,025 : ***** Transfer task : STS16 *****\n",
            "\n",
            "\n",
            "2024-05-31 09:25:45,547 : answer-answer : pearson = 0.6431, spearman = 0.6389\n",
            "2024-05-31 09:25:47,302 : headlines : pearson = 0.6776, spearman = 0.6762\n",
            "2024-05-31 09:25:49,367 : plagiarism : pearson = 0.8139, spearman = 0.8230\n",
            "2024-05-31 09:25:53,844 : postediting : pearson = 0.8184, spearman = 0.8201\n",
            "2024-05-31 09:25:55,230 : question-question : pearson = 0.2974, spearman = 0.2886\n",
            "2024-05-31 09:25:55,232 : ALL : Pearson = 0.6482,             Spearman = 0.6483\n",
            "2024-05-31 09:25:55,232 : ALL (weighted average) : Pearson = 0.6586,             Spearman = 0.6580\n",
            "2024-05-31 09:25:55,232 : ALL (average) : Pearson = 0.6501,             Spearman = 0.6493\n",
            "\n",
            "2024-05-31 09:25:55,239 : \n",
            "\n",
            "***** Transfer task : STSBenchmark*****\n",
            "\n",
            "\n",
            "2024-05-31 09:26:45,202 : train : pearson = 0.4983, spearman = 0.4688\n",
            "2024-05-31 09:27:00,730 : dev : pearson = 0.5717, spearman = 0.5690\n",
            "2024-05-31 09:27:13,000 : test : pearson = 0.4964, spearman = 0.4856\n",
            "2024-05-31 09:27:13,008 : ALL : Pearson = 0.5154,             Spearman = 0.4954\n",
            "2024-05-31 09:27:13,008 : ALL (weighted average) : Pearson = 0.5107,             Spearman = 0.4889\n",
            "2024-05-31 09:27:13,008 : ALL (average) : Pearson = 0.5221,             Spearman = 0.5078\n",
            "\n",
            "2024-05-31 09:27:13,017 : \n",
            "\n",
            "***** Transfer task : SICKRelatedness*****\n",
            "\n",
            "\n",
            "2024-05-31 09:27:42,690 : train : pearson = 0.5796, spearman = 0.5735\n",
            "2024-05-31 09:27:46,913 : dev : pearson = 0.5629, spearman = 0.5763\n",
            "2024-05-31 09:28:18,303 : test : pearson = 0.5819, spearman = 0.5680\n",
            "2024-05-31 09:28:18,309 : ALL : Pearson = 0.5800,             Spearman = 0.5711\n",
            "2024-05-31 09:28:18,309 : ALL (weighted average) : Pearson = 0.5799,             Spearman = 0.5709\n",
            "2024-05-31 09:28:18,309 : ALL (average) : Pearson = 0.5748,             Spearman = 0.5726\n",
            "\n",
            "------ test ------\n",
            "+-------+-------+-------+-------+-------+--------------+-----------------+-------+\n",
            "| STS12 | STS13 | STS14 | STS15 | STS16 | STSBenchmark | SICKRelatedness |  Avg. |\n",
            "+-------+-------+-------+-------+-------+--------------+-----------------+-------+\n",
            "| 35.71 | 57.28 | 48.73 | 63.11 | 64.83 |    48.56     |      56.80      | 53.57 |\n",
            "+-------+-------+-------+-------+-------+--------------+-----------------+-------+\n"
          ]
        }
      ]
    },
    {
      "cell_type": "markdown",
      "source": [
        "\n",
        "## Other set operations\n",
        "Other subspace-based set operations such as union, intersection, orthogonal complement, and soft membership can be computed as follows using torch.\n"
      ],
      "metadata": {
        "id": "Fy0DUvFltoRQ"
      }
    },
    {
      "cell_type": "code",
      "source": [
        "import torch\n",
        "from subspace.operations import *\n",
        "\n",
        "torch.manual_seed(0)\n",
        "device = torch.device('cuda' if torch.cuda.is_available() else 'cpu')\n",
        "A = torch.rand((50, 300), device=device) # 50 stacked 300-dimensional word vectors\n",
        "B = torch.rand((80, 300), device=device) # 80 stacked 300-dimensional word vectors"
      ],
      "metadata": {
        "id": "d-OC9u3RaICS"
      },
      "execution_count": null,
      "outputs": []
    },
    {
      "cell_type": "markdown",
      "source": [
        "Compute bases of the subspace"
      ],
      "metadata": {
        "id": "sOofRUVAuEqq"
      }
    },
    {
      "cell_type": "code",
      "source": [
        "SA = subspace(A)\n",
        "SA.shape # torch.Size([50, 300])"
      ],
      "metadata": {
        "id": "p-7VgthdaIEz",
        "colab": {
          "base_uri": "https://localhost:8080/"
        },
        "outputId": "fbd5ba4b-7915-403f-ded4-bee9ab5878c8"
      },
      "execution_count": null,
      "outputs": [
        {
          "output_type": "execute_result",
          "data": {
            "text/plain": [
              "torch.Size([50, 300])"
            ]
          },
          "metadata": {},
          "execution_count": 10
        }
      ]
    },
    {
      "cell_type": "markdown",
      "source": [
        "Compute bases of the orthogonal complement"
      ],
      "metadata": {
        "id": "BXcI-R18t2I4"
      }
    },
    {
      "cell_type": "code",
      "source": [
        "A_NOT = orthogonal_complement(A)\n",
        "A_NOT.shape # torch.Size([250, 300])"
      ],
      "metadata": {
        "id": "dzp3H0n8aII1",
        "colab": {
          "base_uri": "https://localhost:8080/"
        },
        "outputId": "5cb1dfe0-4cb0-4a1a-fb90-56111b891a98"
      },
      "execution_count": null,
      "outputs": [
        {
          "output_type": "execute_result",
          "data": {
            "text/plain": [
              "torch.Size([250, 300])"
            ]
          },
          "metadata": {},
          "execution_count": 11
        }
      ]
    },
    {
      "cell_type": "markdown",
      "source": [
        "Compute bases of the intersection"
      ],
      "metadata": {
        "id": "4BMuMdL2uNo6"
      }
    },
    {
      "cell_type": "code",
      "source": [
        "A_AND_B = intersection(A, B)\n",
        "A_AND_B.shape # torch.Size([1, 300])\n"
      ],
      "metadata": {
        "colab": {
          "base_uri": "https://localhost:8080/"
        },
        "id": "xLE0xUJlt3i9",
        "outputId": "6e496c9b-bc2c-47ce-e827-de968b5bab5c"
      },
      "execution_count": null,
      "outputs": [
        {
          "output_type": "execute_result",
          "data": {
            "text/plain": [
              "torch.Size([1, 300])"
            ]
          },
          "metadata": {},
          "execution_count": 12
        }
      ]
    },
    {
      "cell_type": "markdown",
      "source": [
        "Compute bases of the sum space\n",
        "\n"
      ],
      "metadata": {
        "id": "Itj1_m47uWWS"
      }
    },
    {
      "cell_type": "code",
      "source": [
        "A_OR_B = sum_space(A, B)\n",
        "A_OR_B.shape # torch.Size([130, 300])"
      ],
      "metadata": {
        "colab": {
          "base_uri": "https://localhost:8080/"
        },
        "id": "FaiZot8yuMqs",
        "outputId": "3b8a28c3-01d4-445d-b4dc-97698adcefbc"
      },
      "execution_count": null,
      "outputs": [
        {
          "output_type": "execute_result",
          "data": {
            "text/plain": [
              "torch.Size([130, 300])"
            ]
          },
          "metadata": {},
          "execution_count": 13
        }
      ]
    },
    {
      "cell_type": "markdown",
      "source": [
        "Compute soft membership degree"
      ],
      "metadata": {
        "id": "Y19ij2IAuatA"
      }
    },
    {
      "cell_type": "code",
      "source": [
        "v = torch.rand(300, device=device)\n",
        "soft_membership(A, v) # tensor(0.8875)"
      ],
      "metadata": {
        "colab": {
          "base_uri": "https://localhost:8080/"
        },
        "id": "tciebR8auhlv",
        "outputId": "370b3cfc-1343-4863-b1f0-271cc811b530"
      },
      "execution_count": null,
      "outputs": [
        {
          "output_type": "execute_result",
          "data": {
            "text/plain": [
              "tensor(0.8875, device='cuda:0')"
            ]
          },
          "metadata": {},
          "execution_count": 14
        }
      ]
    },
    {
      "cell_type": "markdown",
      "source": [
        "# Exploring Word Embeddings using Subspaces\n",
        "\n",
        "This experiment aims to explore the relationships between word embeddings using subspaces. It demonstrates how to create subspaces for color words and fruit words, and then analyzes the intersection of these subspaces. The code also provides functions to sample random vectors from a subspace, find similar words within a subspace, and calculate the soft membership of evaluation words to a given subspace.\n"
      ],
      "metadata": {
        "id": "C5HIR6Jc3UBx"
      }
    },
    {
      "cell_type": "code",
      "source": [
        "import torch\n",
        "import gensim.downloader as api\n",
        "from gensim.utils import simple_preprocess\n",
        "\n",
        "# Use GPU if available, otherwise use CPU\n",
        "device = torch.device(\"cuda\" if torch.cuda.is_available() else \"cpu\")\n",
        "\n",
        "# Color word sets (split into spanning and evaluation sets)\n",
        "color_words_span = ['red', 'yellow', 'amber', 'ochre', 'gold', 'brown',\n",
        "                    'sienna', 'bronze', 'copper', 'rust', 'crimson', 'scarlet',\n",
        "                    'vermilion', 'tangerine', 'apricot', 'peach']\n",
        "\n",
        "# Fruit word sets (split into spanning and evaluation sets)\n",
        "fruit_words_span = ['tangerine', 'clementine', 'mandarin', 'citrus',\n",
        "                    'grapefruit', 'kumquat', 'persimmon', 'mango', 'papaya',\n",
        "                    'cantaloupe', 'apricot', 'nectarine', 'peach', 'plum',\n",
        "                    'cherry', 'pomegranate']\n",
        "\n",
        "# Load word2vec model\n",
        "#w2v_model = api.load('word2vec-google-news-300')\n",
        "\n",
        "# Function to represent a set of words as a matrix using word2vec\n",
        "def words_to_matrix(words):\n",
        "    matrix = []\n",
        "    for word in words:\n",
        "        if word in w2v_model.key_to_index:\n",
        "            matrix.append(w2v_model[word])\n",
        "    return torch.tensor(matrix).to(device)\n",
        "\n",
        "# Represent color word sets as matrices\n",
        "color_matrix_span = words_to_matrix(color_words_span)\n",
        "\n",
        "# Represent fruit word sets as matrices\n",
        "fruit_matrix_span = words_to_matrix(fruit_words_span)\n",
        "\n",
        "# Calculate intersections\n",
        "color_subspace = subspace(color_matrix_span)\n",
        "fruit_subspace = subspace(fruit_matrix_span)\n",
        "# Tip: Adjust the threshold to allow more overlap between subspaces\n",
        "color_and_fruit_subspace = intersection(color_matrix_span, fruit_matrix_span, threshold=0.5)\n",
        "assert color_and_fruit_subspace.shape[0] > 0, \"Increase the threshold to allow more overlap between subspaces\"\n",
        "color_and_fruit_subspace.shape"
      ],
      "metadata": {
        "colab": {
          "base_uri": "https://localhost:8080/"
        },
        "id": "GEjhwhxxxmbS",
        "outputId": "b21c474b-0aad-4518-888a-fef765b55bc1"
      },
      "execution_count": null,
      "outputs": [
        {
          "output_type": "execute_result",
          "data": {
            "text/plain": [
              "torch.Size([3, 300])"
            ]
          },
          "metadata": {},
          "execution_count": 19
        }
      ]
    },
    {
      "cell_type": "markdown",
      "source": [
        "\n",
        "Tips:\n",
        "- If the subspaces do not overlap, it could be due to the small size of the word sets. Consider increasing the size of the word sets to improve the chances of overlap.\n",
        "- Adjust the threshold for the intersection subspace to allow more overlap between subspaces when the intersection is likely to be empty.\n",
        "\n",
        "## Evaluation\n",
        "Soft membership is a way to measure how much a word belongs to a set of words. It gives a value between 0 and 1, where:\n",
        "\n",
        "- 1 means the word is strongly related to the set\n",
        "- 0 means the word is weakly related to the set\n",
        "\n",
        "Soft membership helps us:\n",
        "\n",
        "- See how closely a word matches a concept or category\n",
        "- Find words that don't fit well with the set\n"
      ],
      "metadata": {
        "id": "NEG-r-Nd7whf"
      }
    },
    {
      "cell_type": "code",
      "source": [
        "# Function to sample random vectors from a subspace\n",
        "def sample_vector_from_subspace(subspace, num_samples=1):\n",
        "    dim = subspace.shape[1]\n",
        "    coefficients = torch.randn(num_samples, subspace.shape[0], device=device)\n",
        "    vectors = coefficients @ subspace\n",
        "    return vectors\n",
        "\n",
        "# Function to calculate and display soft membership of evaluation words to a subspace\n",
        "def evaluate_soft_membership(subspace, eval_words, subspace_name):\n",
        "    for word in eval_words:\n",
        "        if word in w2v_model.key_to_index:\n",
        "            word_vector = torch.tensor(w2v_model[word]).to(device)\n",
        "            membership = soft_membership(subspace, word_vector)\n",
        "            print(f\"Soft membership of '{word}' to the {subspace_name} subspace: {membership:.4f}\")\n",
        "        else:\n",
        "            print(f\"The word '{word}' is not found in the word2vec model.\")"
      ],
      "metadata": {
        "id": "qm3KgZKd3qeF"
      },
      "execution_count": null,
      "outputs": []
    },
    {
      "cell_type": "markdown",
      "source": [
        "## Example 1\n",
        "Words that have characteristics of both color and fruit word sets tend to have high soft membership values. Words like \"orange,\" which possess features of both sets, will have high values in both."
      ],
      "metadata": {
        "id": "8eUpSs8980Ce"
      }
    },
    {
      "cell_type": "code",
      "source": [
        "color_words_eval = ['orange', 'coral', 'salmon', 'persimmon']\n",
        "fruit_words_eval = ['orange', 'lemon', 'lime', 'citron']\n",
        "\n",
        "# Experiment with color subspace\n",
        "print(\"Color Subspace:\")\n",
        "evaluate_soft_membership(color_subspace, color_words_eval, \"color\")\n",
        "\n",
        "# Experiment with fruit subspace\n",
        "print(\"\\nFruit Subspace:\")\n",
        "evaluate_soft_membership(fruit_subspace, fruit_words_eval, \"fruit\")\n",
        "\n",
        "# Experiment with intersection subspace\n",
        "print(\"\\nIntersection Subspace:\")\n",
        "evaluate_soft_membership(color_and_fruit_subspace, color_words_eval + fruit_words_eval, \"intersection\")"
      ],
      "metadata": {
        "colab": {
          "base_uri": "https://localhost:8080/"
        },
        "id": "kqDu803H84yB",
        "outputId": "10aa54d4-8858-44c2-9027-91f4aeaf86d9"
      },
      "execution_count": null,
      "outputs": [
        {
          "output_type": "stream",
          "name": "stdout",
          "text": [
            "Color Subspace:\n",
            "Soft membership of 'orange' to the color subspace: 0.7759\n",
            "Soft membership of 'coral' to the color subspace: 0.4909\n",
            "Soft membership of 'salmon' to the color subspace: 0.3981\n",
            "Soft membership of 'persimmon' to the color subspace: 0.6431\n",
            "\n",
            "Fruit Subspace:\n",
            "Soft membership of 'orange' to the fruit subspace: 0.6002\n",
            "Soft membership of 'lemon' to the fruit subspace: 0.7296\n",
            "Soft membership of 'lime' to the fruit subspace: 0.6405\n",
            "Soft membership of 'citron' to the fruit subspace: 0.7488\n",
            "\n",
            "Intersection Subspace:\n",
            "Soft membership of 'orange' to the intersection subspace: 0.5879\n",
            "Soft membership of 'coral' to the intersection subspace: 0.3895\n",
            "Soft membership of 'salmon' to the intersection subspace: 0.3088\n",
            "Soft membership of 'persimmon' to the intersection subspace: 0.6148\n",
            "Soft membership of 'orange' to the intersection subspace: 0.5879\n",
            "Soft membership of 'lemon' to the intersection subspace: 0.6702\n",
            "Soft membership of 'lime' to the intersection subspace: 0.5715\n",
            "Soft membership of 'citron' to the intersection subspace: 0.6640\n"
          ]
        }
      ]
    },
    {
      "cell_type": "markdown",
      "source": [
        "## Example 2\n",
        "These word sets are not particularly related to colors or fruits. Such words will have low soft membership values."
      ],
      "metadata": {
        "id": "irkw76IX8rha"
      }
    },
    {
      "cell_type": "code",
      "source": [
        "# Unrelated word set for evaluation\n",
        "unrelated_words = ['computer', 'book', 'guitar', 'coffee', 'dog', 'rain', 'castle', 'forest', 'ocean', 'moon']"
      ],
      "metadata": {
        "id": "RmW7Gf-V4-x0"
      },
      "execution_count": null,
      "outputs": []
    },
    {
      "cell_type": "code",
      "source": [
        "# Experiment with color subspace\n",
        "print(\"Color Subspace:\")\n",
        "evaluate_soft_membership(color_subspace, unrelated_words, \"color\")\n",
        "\n",
        "# Experiment with fruit subspace\n",
        "print(\"\\nFruit Subspace:\")\n",
        "evaluate_soft_membership(fruit_subspace, unrelated_words, \"fruit\")\n",
        "\n",
        "# Experiment with intersection subspace\n",
        "print(\"\\nIntersection Subspace:\")\n",
        "evaluate_soft_membership(color_and_fruit_subspace, unrelated_words, \"intersection\")"
      ],
      "metadata": {
        "colab": {
          "base_uri": "https://localhost:8080/"
        },
        "id": "Sgje9GA-6U6_",
        "outputId": "c5918ee7-3fa9-456a-c8a2-f09bb75dd845"
      },
      "execution_count": null,
      "outputs": [
        {
          "output_type": "stream",
          "name": "stdout",
          "text": [
            "Color Subspace:\n",
            "Soft membership of 'computer' to the color subspace: 0.2263\n",
            "Soft membership of 'book' to the color subspace: 0.2674\n",
            "Soft membership of 'guitar' to the color subspace: 0.2656\n",
            "Soft membership of 'coffee' to the color subspace: 0.4121\n",
            "Soft membership of 'dog' to the color subspace: 0.3692\n",
            "Soft membership of 'rain' to the color subspace: 0.3345\n",
            "Soft membership of 'castle' to the color subspace: 0.2753\n",
            "Soft membership of 'forest' to the color subspace: 0.3059\n",
            "Soft membership of 'ocean' to the color subspace: 0.2824\n",
            "Soft membership of 'moon' to the color subspace: 0.3550\n",
            "\n",
            "Fruit Subspace:\n",
            "Soft membership of 'computer' to the fruit subspace: 0.2205\n",
            "Soft membership of 'book' to the fruit subspace: 0.3211\n",
            "Soft membership of 'guitar' to the fruit subspace: 0.2340\n",
            "Soft membership of 'coffee' to the fruit subspace: 0.4622\n",
            "Soft membership of 'dog' to the fruit subspace: 0.2811\n",
            "Soft membership of 'rain' to the fruit subspace: 0.3184\n",
            "Soft membership of 'castle' to the fruit subspace: 0.2666\n",
            "Soft membership of 'forest' to the fruit subspace: 0.3669\n",
            "Soft membership of 'ocean' to the fruit subspace: 0.2840\n",
            "Soft membership of 'moon' to the fruit subspace: 0.2863\n",
            "\n",
            "Intersection Subspace:\n",
            "Soft membership of 'computer' to the intersection subspace: 0.0570\n",
            "Soft membership of 'book' to the intersection subspace: 0.1163\n",
            "Soft membership of 'guitar' to the intersection subspace: 0.1305\n",
            "Soft membership of 'coffee' to the intersection subspace: 0.3019\n",
            "Soft membership of 'dog' to the intersection subspace: 0.1680\n",
            "Soft membership of 'rain' to the intersection subspace: 0.1874\n",
            "Soft membership of 'castle' to the intersection subspace: 0.1972\n",
            "Soft membership of 'forest' to the intersection subspace: 0.2369\n",
            "Soft membership of 'ocean' to the intersection subspace: 0.1446\n",
            "Soft membership of 'moon' to the intersection subspace: 0.1940\n"
          ]
        }
      ]
    },
    {
      "cell_type": "code",
      "source": [],
      "metadata": {
        "id": "YCaPms-r_VGm"
      },
      "execution_count": null,
      "outputs": []
    }
  ],
  "metadata": {
    "colab": {
      "provenance": [],
      "gpuType": "T4",
      "toc_visible": true,
      "include_colab_link": true
    },
    "kernelspec": {
      "display_name": "Python 3",
      "name": "python3"
    },
    "language_info": {
      "name": "python"
    },
    "accelerator": "GPU"
  },
  "nbformat": 4,
  "nbformat_minor": 0
}